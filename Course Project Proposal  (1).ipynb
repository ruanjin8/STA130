{
 "cells": [
  {
   "cell_type": "markdown",
   "id": "1f51a017",
   "metadata": {},
   "source": [
    "Research Questions\n",
    "\n",
    "Data Summarization:\n",
    "\n",
    "Question: \"What are the central tendencies and variability of social interaction days among various demographic groups within the dataset?\"\n",
    "Alignment with Rubric: Directly connects to exploring the data's distribution, which is crucial for understanding patterns within the dataset.\n",
    "\n",
    "Visualization:\n",
    "\n",
    "Question: \"How do the distributions of social interaction days and well-being scores visually correlate, and what does this imply about the relationships between these variables?\"\n",
    "Alignment with Rubric: Utilizes visual tools to identify potential relationships and trends, enhancing understanding before formal statistical testing.\n",
    "\n",
    "Confidence Intervals:\n",
    "\n",
    "Question: \"What are the 95% confidence intervals of the well-being scores for different frequencies of social interactions, and what does this reveal about the uncertainty of our estimates?\"\n",
    "Alignment with Rubric: Directly addresses the precision and reliability of well-being score estimates, which is foundational for subsequent hypothesis testing.\n",
    "\n",
    "Simple Linear Regression:\n",
    "\n",
    "Question: \"Can the frequency of social interactions predict well-being scores when controlling for demographic factors, and how does each factor influence this relationship?\"\n",
    "Alignment with Rubric: Explores a predictive relationship using regression, adjusting for demographics, which is crucial for isolating the effect of social interactions.\n",
    "\n",
    "Variables\n",
    "\n",
    "Clearly Identified and Described Variables:\n",
    "\n",
    "Social Interaction Days (Independent Variable): Number of days participants interact socially.\n",
    "Well-being Scores (Dependent Variable): Scores representing overall mental health and life satisfaction.\n",
    "Demographics (Control Variables): Include age, gender, and socioeconomic status to adjust for potential confounding effects.\n",
    "\n",
    "Visualization Justification:\n",
    "\n",
    "Histograms: To assess the distribution of each variable, checking for normality or skewness.\n",
    "Scatter Plots: To visualize relationships between social interactions and well-being scores, aiding in the preliminary identification of trends.\n",
    "Box Plots: To compare well-being scores across categories of social interaction frequency, highlighting median and variability.\n",
    "\n",
    "Analysis\n",
    "Appropriate Methods and Assumptions Addressed:\n",
    "Data Summarization: Use of descriptive statistics to provide an overview of data distribution.\n",
    "Visualization: Employ various plots to visually explore the data, aiding in the identification of patterns that inform further analysis.\n",
    "Confidence Intervals: Calculation of intervals to gauge the reliability of well-being score estimates across social interaction levels.\n",
    "Simple Linear Regression: Apply regression analysis to quantify the influence of social interaction days on well-being scores, discussing assumptions such as linearity, independence, normality, and homoscedasticity.\n",
    "Hypothesis/Results and Discussion\n",
    "Hypothesis for Each Method:\n",
    "\n",
    "Data Summarization: I expect to find that the average number of days spent socializing varies by demographic factors, with younger adults likely engaging more frequently.\n",
    "Visualization: Visual trends will likely show a positive correlation between the frequency of social interactions and higher well-being scores.\n",
    "Confidence Intervals: The confidence intervals will demonstrate that well-being scores vary significantly with social interaction frequency, indicating a direct impact.\n",
    "Simple Linear Regression: Social interaction days will significantly predict well-being scores, with adjustments for demographics revealing nuanced impacts.\n",
    "\n",
    "\n",
    "Ethical and Professionalism Considerations:\n",
    "\n",
    "I will discuss potential socio-cultural implications of promoting increased social interaction as a public health measure, considering both positive impacts and unintended consequences (such as pressure on introverted individuals)Discuss potential socio-cultural implications of promoting increased. I will Address ethical concerns about data representativeness and bias, ensuring that findings are applicable to diverse subgroups within the population and discussing limitations openly in the findings."
   ]
  },
  {
   "cell_type": "markdown",
   "id": "b5093f95",
   "metadata": {},
   "source": [
    "The group members I wish: Michelle Huang, Keito Hara"
   ]
  }
 ],
 "metadata": {
  "kernelspec": {
   "display_name": "Python 3 (ipykernel)",
   "language": "python",
   "name": "python3"
  },
  "language_info": {
   "codemirror_mode": {
    "name": "ipython",
    "version": 3
   },
   "file_extension": ".py",
   "mimetype": "text/x-python",
   "name": "python",
   "nbconvert_exporter": "python",
   "pygments_lexer": "ipython3",
   "version": "3.11.6"
  }
 },
 "nbformat": 4,
 "nbformat_minor": 5
}
