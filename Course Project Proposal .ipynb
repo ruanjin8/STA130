{
 "cells": [
  {
   "cell_type": "markdown",
   "id": "cbd1b3aa",
   "metadata": {},
   "source": [
    "Research Question\n",
    "\"Does the frequency of social interactions with friends impact mental health and life satisfaction among Canadian adults, and how does this vary by age group?\"\n",
    "\n",
    "Variables to Explore:\n",
    "\n",
    "Dependent Variables: Mental_Health_Score, Life_Satisfaction_Rating\n",
    "Independent Variables: Days_Socializing_with_Friends_per_Week, Social_Interaction_Type\n",
    "Control Variables: Age, gender, and socioeconomic status.\n",
    "\n",
    "Justification for Variable Selection:\n",
    "Independent Variable: Selected to quantify social activity and its direct relationship with well-being.\n",
    "Dependent Variables: These measures will help assess the psychological and overall life quality impacts of socialization.\n",
    "\n",
    "Control Variables: Necessary to adjust for potential confounders that might influence both social behavior and well-being.\n",
    "\n",
    "\n",
    "Below are my proposed methods of exploration:\n",
    "Data Summarization:\n",
    "\n",
    "What: Calculate summary statistics (mean, median, standard deviation) for all key variables.\n",
    "Why: Provides a baseline understanding of the data's central tendencies and variability, essential for all subsequent analyses.To understand the average frequency of social interactions with friends among the survey respondents, as well as the variability in these interactions. For example, I may find that the average number of days spent socializing with friends is between 3 and 5 days per week, indicating a moderate level of social activity. Alternatively, I could discover either a low mean indicating limited social interactions or a high mean suggesting very active social lives.\n",
    "\n",
    "\n",
    "Visualization\n",
    "What: Create histograms to view the distribution of social days and well-being scores; scatter plots to examine relationships; and box plots to compare groups.\n",
    "Why: Visual tools are crucial for spotting trends, patterns, and outliers in the data, and for illustrating potential relationships visually before formal testing.\n",
    "Possible results: The data could be normally distributed, left skewed, right skewed, or binomial. A right skew could mean \n",
    "\n",
    "Confidence Intervals\n",
    "What: Compute 95% confidence intervals for average well-being scores across different levels of social interaction.\n",
    "Why: Offers a statistical range that likely contains the true mean, adding precision to our estimates and supporting subsequent hypothesis testing.\n",
    "\n",
    "\n",
    "Simple Linear Regression\n",
    "What: Apply simple linear regression to explore the influence of socializing days on well-being scores, controlling for demographics.\n",
    "\n",
    "Why: Quantifies the strength and significance of the relationship between social activity and well-being, adjusting for potential confounding variables.\n",
    "\n",
    "\n",
    "Relevance of Results:\n",
    "How Results Will Be Used: Findings could guide public health initiatives, helping tailor community programs that encourage social interaction to improve well-being.Connection to Course Objectives: This analysis will use a real-world dataset to practice and apply statistical methods learned in class, demonstrating the practical relevance of statistical theory in addressing societal issues.\n",
    "\n",
    "Detailed hypothesis: \n",
    "I want to hypothesis that greater frequency of social interactions with friends is associated with higher mental health and life satisfaction scores among Canadian adults. Furthermore, we anticipate that the impact of social interactions on well-being measures will vary by age, with younger adults experiencing a more pronounced positive impact compared to older adults.\n",
    "\n",
    "result my analysis may produce: \n",
    "A positive correlation between the number of days spent socializing with friends and both mental health and life satisfaction scores. This suggests that individuals who engage more frequently in social activities with friends report better mental health and higher satisfaction with life.The effect of social interaction on well-being is expected to be stronger among younger adults (e.g., 18-35 years) compared to older adults (e.g., 55+ years). This might be due to higher adaptability and social needs or a larger social network among younger individuals.\n",
    "\n",
    "\n",
    "Ethical and Professionalism Considerations:\n",
    "\n",
    "I will discuss potential socio-cultural implications of promoting increased social interaction as a public health measure, considering both positive impacts and unintended consequences (such as pressure on introverted individuals)Discuss potential socio-cultural implications of promoting increased. I will Address ethical concerns about data representativeness and bias, ensuring that findings are applicable to diverse subgroups within the population and discussing limitations openly in the findings.\n",
    "\n"
   ]
  },
  {
   "cell_type": "markdown",
   "id": "b5093f95",
   "metadata": {},
   "source": [
    "The group members I wish: Michelle Huang, Keito Hara"
   ]
  }
 ],
 "metadata": {
  "kernelspec": {
   "display_name": "Python 3 (ipykernel)",
   "language": "python",
   "name": "python3"
  },
  "language_info": {
   "codemirror_mode": {
    "name": "ipython",
    "version": 3
   },
   "file_extension": ".py",
   "mimetype": "text/x-python",
   "name": "python",
   "nbconvert_exporter": "python",
   "pygments_lexer": "ipython3",
   "version": "3.11.6"
  }
 },
 "nbformat": 4,
 "nbformat_minor": 5
}
