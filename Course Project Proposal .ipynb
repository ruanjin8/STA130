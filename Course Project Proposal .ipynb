{
 "cells": [
  {
   "cell_type": "code",
   "execution_count": null,
   "id": "a6a871c7",
   "metadata": {},
   "outputs": [],
   "source": [
    "Analysis 1 Data Summarization:\n",
    "\n",
    "Question: \"What are the central tendencies and variability of social interaction days among various demographic groups within the dataset?\"\n",
    "Why: Visual tools are crucial for spotting trends,patterns, and outliers in the data, and for illistruating ootential relationships visually before formal testing. \n",
    "It can also help to understand the average frequency of social interactions with friends among the survey respondents.\n",
    "\n",
    "variables: Demographics (Control Variables): Include age, gender, and socioeconomic status to adjust for potential confounding effects.\n",
    "\n",
    "        \n",
    "hypothesis: I expect to find that the average number of days spent socializing varies by demographic factors, with younger adults likely engaging more frequently. \n",
    "\n",
    "\n",
    "Analysis 2 Confidence Intervals:\n",
    "\n",
    "Question: \"What are the 95% confidence intervals of the well-being scores for different frequencies of social interactions, and what does this reveal about the uncertainty of our estimates?\"\n",
    "Why: It offers a statistical range that likely contains the true mean,adding precision to our estimates and supporting subsequent hypothesis testing.\n",
    "hypothesis: The confidence intervals will demonstrate that well-being scores vary significantly with social interaction frequency, indicating a direct impact. \n",
    "variables: Demographics (Control Variables): Include age, gender, and socioeconomic status to adjust for potential confounding effects.\n",
    "\n",
    "\n",
    "Analysis 3 Simple Linear Regression:\n",
    "why: quantifies the strength and significance of the relationship between soical acitivty abd well-being,adujsting for potential variables. \n",
    "Question: \"Can the frequency of social interactions predict well-being scores when controlling for demographic factors, and how does each factor influence this relationship?\"\n",
    "\n",
    "\n",
    "hypothesis:Social interaction days will significantly predict well-being scores, with adjustments for demographics revealing nuanced impacts.\n",
    "variables: Demographics (Control Variables): Include age, gender, and socioeconomic status to adjust for potential confounding effects.\n",
    "\n",
    "\n",
    "Ethical and Professionalism Considerations:\n",
    "\n",
    "I will discuss potential socio-cultural implications of promoting increased social interaction as a public health measure, considering both positive impacts and unintended consequences (such as pressure on introverted individuals)Discuss potential socio-cultural implications of promoting increased. \n",
    "I will Address ethical concerns about data representativeness and bias, ensuring that findings are applicable to diverse subgroups within the population and discussing limitations openly in the findings.\n",
    "\n"
   ]
  },
  {
   "cell_type": "markdown",
   "id": "b5093f95",
   "metadata": {},
   "source": [
    "The group members I wish: Michelle Huang, Keito Hara"
   ]
  }
 ],
 "metadata": {
  "kernelspec": {
   "display_name": "Python 3 (ipykernel)",
   "language": "python",
   "name": "python3"
  },
  "language_info": {
   "codemirror_mode": {
    "name": "ipython",
    "version": 3
   },
   "file_extension": ".py",
   "mimetype": "text/x-python",
   "name": "python",
   "nbconvert_exporter": "python",
   "pygments_lexer": "ipython3",
   "version": "3.11.6"
  }
 },
 "nbformat": 4,
 "nbformat_minor": 5
}
