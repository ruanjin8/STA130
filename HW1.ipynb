{
 "cells": [
  {
   "cell_type": "markdown",
   "id": "c9c4896c",
   "metadata": {},
   "source": [
    "Pre-lecture questions: "
   ]
  },
  {
   "cell_type": "markdown",
   "id": "680a6e5e",
   "metadata": {},
   "source": [
    "Question 2"
   ]
  },
  {
   "cell_type": "code",
   "execution_count": 3,
   "id": "30f036ca",
   "metadata": {},
   "outputs": [
    {
     "data": {
      "text/plain": [
       "row_n           0\n",
       "id              1\n",
       "name            0\n",
       "gender          0\n",
       "species         0\n",
       "birthday        0\n",
       "personality     0\n",
       "song           11\n",
       "phrase          0\n",
       "full_id         0\n",
       "url             0\n",
       "dtype: int64"
      ]
     },
     "execution_count": 3,
     "metadata": {},
     "output_type": "execute_result"
    }
   ],
   "source": [
    "import pandas as pd\n",
    "url = \"https://raw.githubusercontent.com/rfordatascience/tidytuesday/master/data/2020/2020-05-05/villagers.csv\"\n",
    "df = pd.read_csv(url)\n",
    "df.isna().sum()                                      "
   ]
  },
  {
   "cell_type": "markdown",
   "id": "32b32045",
   "metadata": {},
   "source": [
    "question 2"
   ]
  },
  {
   "cell_type": "code",
   "execution_count": 5,
   "id": "6f57f4fa",
   "metadata": {},
   "outputs": [
    {
     "name": "stdout",
     "output_type": "stream",
     "text": [
      "Number of rows: 391\n",
      "Number of columns: 11\n"
     ]
    }
   ],
   "source": [
    "num_rows, num_columns = df.shape\n",
    "print(f\"Number of rows: {num_rows}\")\n",
    "print(f\"Number of columns: {num_columns}\")"
   ]
  },
  {
   "cell_type": "markdown",
   "id": "8710e933",
   "metadata": {},
   "source": [
    "definition of obersvations in my own owrds: obersvation is a single row in the Dataframe and every row correpesonds to a oberservations such as person,even, obejct. Each observation represents single entry upon the data has been measured and recorded.   \n",
    "\n",
    "definition of varibles in my own words: The different things that can be measured and recorded for each entity, it corresponds to the columns of the dataset. It can be quantitative or qualitative. For example, a patient's data set can include bloodtype, age, and weight.  "
   ]
  },
  {
   "cell_type": "markdown",
   "id": "36705af4",
   "metadata": {},
   "source": [
    "Step 3 Ask the ChatBot how you can provide simple summaries of the columns in the dataset and use the suggested code to provide these summaries for your dataset\n"
   ]
  },
  {
   "cell_type": "code",
   "execution_count": 10,
   "id": "9cdedc26",
   "metadata": {
    "scrolled": true
   },
   "outputs": [
    {
     "name": "stdout",
     "output_type": "stream",
     "text": [
      "Numeric Columns Summary:\n",
      "            row_n\n",
      "count  391.000000\n",
      "mean   239.902813\n",
      "std    140.702672\n",
      "min      2.000000\n",
      "25%    117.500000\n",
      "50%    240.000000\n",
      "75%    363.500000\n",
      "max    483.000000\n",
      "\n",
      "Categorical Columns Summary:\n",
      "             id     name gender species birthday personality          song  \\\n",
      "count       390      391    391     391      391         391           380   \n",
      "unique      390      391      2      35      361           8            92   \n",
      "top     admiral  Admiral   male     cat     1-27        lazy  K.K. Country   \n",
      "freq          1        1    204      23        2          60            10   \n",
      "\n",
      "         phrase           full_id  \\\n",
      "count       391               391   \n",
      "unique      388               391   \n",
      "top     wee one  villager-admiral   \n",
      "freq          2                 1   \n",
      "\n",
      "                                                      url  \n",
      "count                                                 391  \n",
      "unique                                                391  \n",
      "top     https://villagerdb.com/images/villagers/thumb/...  \n",
      "freq                                                    1  \n"
     ]
    }
   ],
   "source": [
    "numeric_summary = df.describe()\n",
    "categorical_summary = df.describe(include=['object'])\n",
    "print(\"Numeric Columns Summary:\")\n",
    "print(numeric_summary)\n",
    "print(\"\\nCategorical Columns Summary:\")\n",
    "print(categorical_summary)\n"
   ]
  },
  {
   "cell_type": "markdown",
   "id": "548773d3",
   "metadata": {},
   "source": [
    "question 4 If the dataset you're using has (a) non-numeric variables and (b) missing values in numeric variables, explain (perhaps using help from a ChatBot if needed) the discrepancies between size of the dataset given by df.shape and what is reported by df.describe() with respect to (a) the number of columns it analyzes and (b) the values it reports in the \"count\" column"
   ]
  },
  {
   "cell_type": "markdown",
   "id": "1584f48e",
   "metadata": {},
   "source": [
    "- To check if your dataset has non-numeric variables, you can check the column data types using df.dtypes.\n",
    "df.describe() by default only shows summary statistics for numeric columns. So, if you have non-numeric columns (e.g., strings or categories), they will be excluded from the df.describe() output unless you specify include=['object'].\n",
    "\n",
    "- df.describe() only includes non-null (non-missing) values when calculating statistics. If there are missing values (NaN) in any numeric column, the count will be less than the total number of rows\n",
    "\n",
    "Understanding the discrepancies between df.shape and df.describe():\n",
    "Number of columns analyzed by df.describe():\n",
    "\n",
    "df.shape returns the total number of rows and columns in the dataset.\n",
    "df.describe() only includes numeric columns unless you use include='all'. This explains why the number of columns in df.describe() is often smaller than the total number of columns in df.shape.\n",
    "Values in the \"count\" column in df.describe():\n",
    "\n",
    "The \"count\" in df.describe() represents the number of non-null (non-missing) values in each column. If a column has missing values, the count will be less than the total number of rows (df.shape[0]).\n",
    "If you have numeric columns with missing values, the count in df.describe() will be smaller than the number of rows in the dataset.\n",
    "\n"
   ]
  },
  {
   "cell_type": "markdown",
   "id": "cb108c78",
   "metadata": {},
   "source": [
    "Question 5"
   ]
  },
  {
   "cell_type": "markdown",
   "id": "790446a5",
   "metadata": {},
   "source": [
    "An attribute is a feature or quality of an object that stores information \n",
    "Since attributes just hold data or state and are not called, they don't need parentheses when accessed.\n",
    "You can directly access the value or data by accessing an attribute.\n",
    "attribute does not need a bracket \n",
    "\n",
    "\n",
    "A method is a function that operates on an object by being linked to it. The class of the object contains the definition of its methods\n",
    "A method do need a bracket "
   ]
  },
  {
   "cell_type": "markdown",
   "id": "49630fa5",
   "metadata": {},
   "source": [
    "Post-lecture\n"
   ]
  },
  {
   "cell_type": "markdown",
   "id": "4547f052",
   "metadata": {},
   "source": [
    "question 6 "
   ]
  },
  {
   "cell_type": "markdown",
   "id": "db4080ce",
   "metadata": {},
   "source": [
    "count: The number of missing values.\n",
    "    \n",
    "mean: The middle number in a data set \n",
    "\n",
    "std: This stands for standard deviation and it is a number to measure how the data is spreading. \n",
    "\n",
    "min: This is the minimum number in a data set. \n",
    "    \n",
    "    \n",
    "25%: This is the first quartile. It means that 25% of the data is smaller or equal than this number. \n",
    "    \n",
    "    \n",
    "50%: This is the median. It means that 50% fo the data is smaller or equal than this number. \n",
    "    \n",
    "    \n",
    "75%: This is the third quartile. It mrans that 75% of the data is smaller or equal than this number. \n",
    "    \n",
    "    \n",
    "max: This is the maximum number in data set. \n"
   ]
  },
  {
   "cell_type": "markdown",
   "id": "2d603adc",
   "metadata": {},
   "source": [
    "Question 7 "
   ]
  },
  {
   "cell_type": "markdown",
   "id": "03d932ff",
   "metadata": {},
   "source": [
    "Provide an example of a \"use case\" in which using df.dropna() might be peferred over using del df['col']\n",
    "\n",
    " An example will be When removing rows with missing value, df.dropna() might be preferred because you want to clean the dataset by removing only the rows that have missing values, while keep the rest of the data where it used to be. "
   ]
  },
  {
   "cell_type": "markdown",
   "id": "99aeef3a",
   "metadata": {},
   "source": [
    "Provide an example of \"the opposite use case\" in which using del df['col'] might be preferred over using df.dropna()\n",
    "\n",
    "\n",
    "When you want to delete an entire column, regardless of the mssing values, df['col']is more preferred. \n",
    "If there is many different columns and there is columns that are unuseful, then df['col'] could delete that certain columns."
   ]
  },
  {
   "cell_type": "markdown",
   "id": "f64fbae9",
   "metadata": {},
   "source": [
    "Discuss why applying del df['col'] before df.dropna() when both are used together could be important\n",
    "\n",
    "\n",
    "Using df['col'] before df.dropna() is to avoid unnecessary row deletions."
   ]
  },
  {
   "cell_type": "markdown",
   "id": "e3456d96",
   "metadata": {},
   "source": [
    "Remove all missing data from one of the datasets you're considering using some combination of del df['col'] and/or df.dropna() and give a justification for your approach, including a \"before and after\" report of the results of your approach for your dataset.\n",
    "\n",
    "\n"
   ]
  },
  {
   "cell_type": "code",
   "execution_count": 16,
   "id": "9cad5899",
   "metadata": {
    "scrolled": true
   },
   "outputs": [
    {
     "data": {
      "text/html": [
       "<div>\n",
       "<style scoped>\n",
       "    .dataframe tbody tr th:only-of-type {\n",
       "        vertical-align: middle;\n",
       "    }\n",
       "\n",
       "    .dataframe tbody tr th {\n",
       "        vertical-align: top;\n",
       "    }\n",
       "\n",
       "    .dataframe thead th {\n",
       "        text-align: right;\n",
       "    }\n",
       "</style>\n",
       "<table border=\"1\" class=\"dataframe\">\n",
       "  <thead>\n",
       "    <tr style=\"text-align: right;\">\n",
       "      <th></th>\n",
       "      <th>row_n</th>\n",
       "      <th>id</th>\n",
       "      <th>name</th>\n",
       "      <th>gender</th>\n",
       "      <th>species</th>\n",
       "      <th>birthday</th>\n",
       "      <th>personality</th>\n",
       "      <th>song</th>\n",
       "      <th>phrase</th>\n",
       "      <th>full_id</th>\n",
       "      <th>url</th>\n",
       "    </tr>\n",
       "  </thead>\n",
       "  <tbody>\n",
       "    <tr>\n",
       "      <th>0</th>\n",
       "      <td>2</td>\n",
       "      <td>admiral</td>\n",
       "      <td>Admiral</td>\n",
       "      <td>male</td>\n",
       "      <td>bird</td>\n",
       "      <td>1-27</td>\n",
       "      <td>cranky</td>\n",
       "      <td>Steep Hill</td>\n",
       "      <td>aye aye</td>\n",
       "      <td>villager-admiral</td>\n",
       "      <td>https://villagerdb.com/images/villagers/thumb/...</td>\n",
       "    </tr>\n",
       "    <tr>\n",
       "      <th>1</th>\n",
       "      <td>3</td>\n",
       "      <td>agent-s</td>\n",
       "      <td>Agent S</td>\n",
       "      <td>female</td>\n",
       "      <td>squirrel</td>\n",
       "      <td>7-2</td>\n",
       "      <td>peppy</td>\n",
       "      <td>DJ K.K.</td>\n",
       "      <td>sidekick</td>\n",
       "      <td>villager-agent-s</td>\n",
       "      <td>https://villagerdb.com/images/villagers/thumb/...</td>\n",
       "    </tr>\n",
       "    <tr>\n",
       "      <th>2</th>\n",
       "      <td>4</td>\n",
       "      <td>agnes</td>\n",
       "      <td>Agnes</td>\n",
       "      <td>female</td>\n",
       "      <td>pig</td>\n",
       "      <td>4-21</td>\n",
       "      <td>uchi</td>\n",
       "      <td>K.K. House</td>\n",
       "      <td>snuffle</td>\n",
       "      <td>villager-agnes</td>\n",
       "      <td>https://villagerdb.com/images/villagers/thumb/...</td>\n",
       "    </tr>\n",
       "    <tr>\n",
       "      <th>3</th>\n",
       "      <td>6</td>\n",
       "      <td>al</td>\n",
       "      <td>Al</td>\n",
       "      <td>male</td>\n",
       "      <td>gorilla</td>\n",
       "      <td>10-18</td>\n",
       "      <td>lazy</td>\n",
       "      <td>Steep Hill</td>\n",
       "      <td>Ayyeeee</td>\n",
       "      <td>villager-al</td>\n",
       "      <td>https://villagerdb.com/images/villagers/thumb/...</td>\n",
       "    </tr>\n",
       "    <tr>\n",
       "      <th>4</th>\n",
       "      <td>7</td>\n",
       "      <td>alfonso</td>\n",
       "      <td>Alfonso</td>\n",
       "      <td>male</td>\n",
       "      <td>alligator</td>\n",
       "      <td>6-9</td>\n",
       "      <td>lazy</td>\n",
       "      <td>Forest Life</td>\n",
       "      <td>it'sa me</td>\n",
       "      <td>villager-alfonso</td>\n",
       "      <td>https://villagerdb.com/images/villagers/thumb/...</td>\n",
       "    </tr>\n",
       "    <tr>\n",
       "      <th>...</th>\n",
       "      <td>...</td>\n",
       "      <td>...</td>\n",
       "      <td>...</td>\n",
       "      <td>...</td>\n",
       "      <td>...</td>\n",
       "      <td>...</td>\n",
       "      <td>...</td>\n",
       "      <td>...</td>\n",
       "      <td>...</td>\n",
       "      <td>...</td>\n",
       "      <td>...</td>\n",
       "    </tr>\n",
       "    <tr>\n",
       "      <th>386</th>\n",
       "      <td>475</td>\n",
       "      <td>winnie</td>\n",
       "      <td>Winnie</td>\n",
       "      <td>female</td>\n",
       "      <td>horse</td>\n",
       "      <td>1-31</td>\n",
       "      <td>peppy</td>\n",
       "      <td>My Place</td>\n",
       "      <td>hay-OK</td>\n",
       "      <td>villager-winnie</td>\n",
       "      <td>https://villagerdb.com/images/villagers/thumb/...</td>\n",
       "    </tr>\n",
       "    <tr>\n",
       "      <th>387</th>\n",
       "      <td>477</td>\n",
       "      <td>wolfgang</td>\n",
       "      <td>Wolfgang</td>\n",
       "      <td>male</td>\n",
       "      <td>wolf</td>\n",
       "      <td>11-25</td>\n",
       "      <td>cranky</td>\n",
       "      <td>K.K. Song</td>\n",
       "      <td>snarrrl</td>\n",
       "      <td>villager-wolfgang</td>\n",
       "      <td>https://villagerdb.com/images/villagers/thumb/...</td>\n",
       "    </tr>\n",
       "    <tr>\n",
       "      <th>388</th>\n",
       "      <td>480</td>\n",
       "      <td>yuka</td>\n",
       "      <td>Yuka</td>\n",
       "      <td>female</td>\n",
       "      <td>koala</td>\n",
       "      <td>7-20</td>\n",
       "      <td>snooty</td>\n",
       "      <td>Soulful K.K.</td>\n",
       "      <td>tsk tsk</td>\n",
       "      <td>villager-yuka</td>\n",
       "      <td>https://villagerdb.com/images/villagers/thumb/...</td>\n",
       "    </tr>\n",
       "    <tr>\n",
       "      <th>389</th>\n",
       "      <td>481</td>\n",
       "      <td>zell</td>\n",
       "      <td>Zell</td>\n",
       "      <td>male</td>\n",
       "      <td>deer</td>\n",
       "      <td>6-7</td>\n",
       "      <td>smug</td>\n",
       "      <td>K.K. D&amp;B</td>\n",
       "      <td>pronk</td>\n",
       "      <td>villager-zell</td>\n",
       "      <td>https://villagerdb.com/images/villagers/thumb/...</td>\n",
       "    </tr>\n",
       "    <tr>\n",
       "      <th>390</th>\n",
       "      <td>483</td>\n",
       "      <td>zucker</td>\n",
       "      <td>Zucker</td>\n",
       "      <td>male</td>\n",
       "      <td>octopus</td>\n",
       "      <td>3-8</td>\n",
       "      <td>lazy</td>\n",
       "      <td>Spring Blossoms</td>\n",
       "      <td>bloop</td>\n",
       "      <td>villager-zucker</td>\n",
       "      <td>https://villagerdb.com/images/villagers/thumb/...</td>\n",
       "    </tr>\n",
       "  </tbody>\n",
       "</table>\n",
       "<p>391 rows × 11 columns</p>\n",
       "</div>"
      ],
      "text/plain": [
       "     row_n        id      name  gender    species birthday personality  \\\n",
       "0        2   admiral   Admiral    male       bird     1-27      cranky   \n",
       "1        3   agent-s   Agent S  female   squirrel      7-2       peppy   \n",
       "2        4     agnes     Agnes  female        pig     4-21        uchi   \n",
       "3        6        al        Al    male    gorilla    10-18        lazy   \n",
       "4        7   alfonso   Alfonso    male  alligator      6-9        lazy   \n",
       "..     ...       ...       ...     ...        ...      ...         ...   \n",
       "386    475    winnie    Winnie  female      horse     1-31       peppy   \n",
       "387    477  wolfgang  Wolfgang    male       wolf    11-25      cranky   \n",
       "388    480      yuka      Yuka  female      koala     7-20      snooty   \n",
       "389    481      zell      Zell    male       deer      6-7        smug   \n",
       "390    483    zucker    Zucker    male    octopus      3-8        lazy   \n",
       "\n",
       "                song    phrase            full_id  \\\n",
       "0         Steep Hill   aye aye   villager-admiral   \n",
       "1            DJ K.K.  sidekick   villager-agent-s   \n",
       "2         K.K. House   snuffle     villager-agnes   \n",
       "3         Steep Hill   Ayyeeee        villager-al   \n",
       "4        Forest Life  it'sa me   villager-alfonso   \n",
       "..               ...       ...                ...   \n",
       "386         My Place    hay-OK    villager-winnie   \n",
       "387        K.K. Song   snarrrl  villager-wolfgang   \n",
       "388     Soulful K.K.   tsk tsk      villager-yuka   \n",
       "389         K.K. D&B     pronk      villager-zell   \n",
       "390  Spring Blossoms     bloop    villager-zucker   \n",
       "\n",
       "                                                   url  \n",
       "0    https://villagerdb.com/images/villagers/thumb/...  \n",
       "1    https://villagerdb.com/images/villagers/thumb/...  \n",
       "2    https://villagerdb.com/images/villagers/thumb/...  \n",
       "3    https://villagerdb.com/images/villagers/thumb/...  \n",
       "4    https://villagerdb.com/images/villagers/thumb/...  \n",
       "..                                                 ...  \n",
       "386  https://villagerdb.com/images/villagers/thumb/...  \n",
       "387  https://villagerdb.com/images/villagers/thumb/...  \n",
       "388  https://villagerdb.com/images/villagers/thumb/...  \n",
       "389  https://villagerdb.com/images/villagers/thumb/...  \n",
       "390  https://villagerdb.com/images/villagers/thumb/...  \n",
       "\n",
       "[391 rows x 11 columns]"
      ]
     },
     "execution_count": 16,
     "metadata": {},
     "output_type": "execute_result"
    }
   ],
   "source": [
    "import pandas as pd\n",
    "url = \"https://raw.githubusercontent.com/rfordatascience/tidytuesday/master/data/2020/2020-05-05/villagers.csv\"\n",
    "df = pd.read_csv(url)\n",
    "df.dropna()\n",
    "df9"
   ]
  },
  {
   "cell_type": "markdown",
   "id": "e49fcd8d",
   "metadata": {},
   "source": [
    "Justification: there\n",
    "\n",
    "\n",
    "Before: \n",
    "\n",
    "\n",
    "\n",
    "\n",
    "After:\n",
    "\n"
   ]
  },
  {
   "cell_type": "markdown",
   "id": "99c7a3fb",
   "metadata": {},
   "source": [
    "Question 8 \n",
    "\n",
    "1) df.groupby(\"col1\")[\"col2\"].describe(): it means this groups the dataframe df by the values in column \"col1\".\n",
    "Each unique value in \"col1\" will define a group of rows in the dataframe. Selects column \"col2\" from the grouped dataframe, indicating that we want to perform operations only on this column for each group. Last the describe()means computes descriptive statistics (like count, mean, standard deviation, min, max, quartiles, etc.) for each group, on the specified column (\"col2\").\n",
    "\n",
    "- It basiclly means it will give out the statistics for specified columns. \n",
    "\n",
    "\n",
    "\n",
    "2) \n",
    "\n",
    "df.groupby(\"col1\")[\"col2\"].describe() (Grouped Count)\n",
    "\n",
    "In df.describe(), each column is treated independently, and you’re getting a general overview of the dataset for each column.\n",
    "\n",
    "In df.groupby(\"col1\")[\"col2\"].describe(), the statistics are contextualized by the groupings in col1, meaning the data is sliced into smaller parts, and the count reflects how many valid col2 values are in each group of col1.\n",
    "Stems from the context in which the counts are being calculated—one is across the whole dataset (ignoring any groupings), while the other is within the context of groups, reflecting how much data is available for col2 within each group of col1.\n",
    "\n",
    "There is also Count Discrepancies of this two functions:\n",
    "\n",
    "In df.describe(), the count reflects the non-missing values for each column separately. This is useful for understanding how complete your dataset is in general.\n",
    "\n",
    "In df.groupby(\"col1\")[\"col2\"].describe(), the count tells you how many col2 values exist within each group of col1. This is more granular and captures the data's structure based on how the data is divided by col1.\n",
    "\n",
    "\n",
    "\n",
    "3)\n",
    "\n",
    "\n",
    "A) chatgpt is better \n",
    "\n",
    "chatgpt is very straight forward and telling me that I need to ensure that the neccessary libraries are imported, such as pandas. It gives me the complete code with the imported statement \n",
    "\n",
    "\n",
    "\n",
    "B)\n",
    "chatgpt is better \n",
    "\n",
    "chatgpt give me a bunch a stuff that I can check to solve the issue, inlcuding check file path, verify file name, check working directory, and file presence. At the last repsonse, it proivde me with a example correction and it is super helpful. \n",
    "\n",
    "C)\n",
    "chatgpt is better \n",
    "\n",
    "When imported a code with wring spelling. Chatgpt actually found out the mistakes and give me suggestions that there is missedspeeled variable or column names in my code that I want to troubleshoot. \n",
    "\n",
    "\n",
    "D)\n",
    "chatgpt is better \n",
    "when imported a code by forgetting one of the parentheses Chatgpt told me that and I think it is clear then google search:\n",
    "\n",
    "Check for Missing Parentheses: Your code is missing a closing parenthesis in pd.read_csv. Make sure it is corrected. \n",
    "\n",
    "\n",
    "E)\n",
    "\n",
    "In this situation, chatgpt tells me that the issue with your code is that group_by is not a valid method in Pandas. The correct method to use is groupby.\n",
    "\n",
    "google search gives me some werid response which I didn't really understand. \n",
    "\n",
    "chatgpt is better \n",
    "\n",
    "\n",
    "F)\n",
    "chatgpt is better \n",
    "\n",
    "chatgpt gives me some troubleshooting tips include Ensure Column Names Exist, Initialization, and Syntax and Method Names. \n",
    "\n",
    "G)\n",
    "chatgpt is better \n",
    "\n",
    "chatgpt give the steps that how I should correct the code. It guides me and tells me that I need to Load the Villagers Dataset, Replace Placeholder Column Names, and it gives me a example of full code. \n",
    "\n",
    "\n",
    "After testing all the scenrios using google search and chatgpt. I found that Chatgpt is more specified and clear than google reaches as it provides very detailed explantions and steps. Most of the time I do research using google, it generally gives me the definitions of the error intead og teaching me how to solve the issue. That is why I did summarize my google research for each of the cases because most of the time, it gives me defintions for certain function and it did not help me to find what was the issue that I created in the code. In this case, I felt chatgpt is more convenient for me since it can give me steps and tell me how to solve the issue. By using Chatgpt, I felt that I am talking to a AI professor and I can directly ask the question that I want to ask. \n",
    "\n",
    "\n",
    "\n",
    "\n",
    "\n"
   ]
  },
  {
   "cell_type": "markdown",
   "id": "8d129d3d",
   "metadata": {},
   "source": [
    "Question 9 \n",
    "\n",
    "\n",
    "I have reviewed the course wiki-textbook and I also connected wiht chatgpt to helo me understand my homework quesions for this course. "
   ]
  },
  {
   "cell_type": "markdown",
   "id": "a14c01da",
   "metadata": {},
   "source": [
    "Here is the three links of my chatgpt history: \n",
    "\n",
    "\n",
    "https://chatgpt.com/share/dd59ca4e-4777-4faa-aa0b-62797c3e40bf\n",
    "https://chatgpt.com/c/66dc82d8-6138-8001-a40d-8f3758e39fdf \n",
    "https://chatgpt.com/c/66e1d379-5b20-8001-826d-e1c7a79369de"
   ]
  }
 ],
 "metadata": {
  "kernelspec": {
   "display_name": "Python 3 (ipykernel)",
   "language": "python",
   "name": "python3"
  },
  "language_info": {
   "codemirror_mode": {
    "name": "ipython",
    "version": 3
   },
   "file_extension": ".py",
   "mimetype": "text/x-python",
   "name": "python",
   "nbconvert_exporter": "python",
   "pygments_lexer": "ipython3",
   "version": "3.11.6"
  }
 },
 "nbformat": 4,
 "nbformat_minor": 5
}
